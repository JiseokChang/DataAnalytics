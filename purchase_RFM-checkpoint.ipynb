{
 "cells": [
  {
   "cell_type": "code",
   "execution_count": 1,
   "metadata": {},
   "outputs": [],
   "source": [
    "import pandas as pd\n",
    "df = pd.read_csv(\"C:\\\\Users\\\\gorgo\\\\Desktop\\\\active_purchase_log.txt\", sep = \"\\t\")"
   ]
  },
  {
   "cell_type": "code",
   "execution_count": 2,
   "metadata": {},
   "outputs": [],
   "source": [
    "df[\"new_price\"] = df.apply(lambda x: x[\"price\"]*1100 if (x[\"market_code\"] == \"APPLE\")&(x[\"purchase_log_id\"] < 1456527) else x[\"price\"], axis = 1)\n",
    "df.drop(\"price\", axis = 1, inplace = True)\n",
    "df[\"crt_date\"] = pd.to_datetime(df[\"crt_date\"])"
   ]
  },
  {
   "cell_type": "code",
   "execution_count": 3,
   "metadata": {},
   "outputs": [],
   "source": [
    "df_RFM = df.groupby('team_id').agg({'crt_date': lambda x: (df['crt_date'].max().date() - x.max().date()).days, 'purchase_log_id': lambda x: len(x), 'new_price': lambda x: round(x.sum(), 0)})"
   ]
  },
  {
   "cell_type": "code",
   "execution_count": 4,
   "metadata": {},
   "outputs": [
    {
     "name": "stdout",
     "output_type": "stream",
     "text": [
      "     Recency  Frequency   Monetary\n",
      "0.8    706.0       73.0  1567638.6\n"
     ]
    }
   ],
   "source": [
    "df_RFM.columns = ['Recency', 'Frequency', 'Monetary']\n",
    "df_RFM = df_RFM.sort_values('Monetary', ascending=False)\n",
    "quantiles = df_RFM.quantile(q=[0.80])\n",
    "print(quantiles)"
   ]
  },
  {
   "cell_type": "code",
   "execution_count": 5,
   "metadata": {},
   "outputs": [],
   "source": [
    "import numpy as np\n",
    "df_RFM['R']=np.where(df_RFM['Recency']<=int(quantiles.Recency.values), 2, 1)\n",
    "df_RFM['F']=np.where(df_RFM['Frequency']>=int(quantiles.Frequency.values), 2, 1)\n",
    "df_RFM['M']=np.where(df_RFM['Monetary']>=int(quantiles.Monetary.values), 2, 1)"
   ]
  },
  {
   "cell_type": "code",
   "execution_count": 6,
   "metadata": {},
   "outputs": [
    {
     "data": {
      "text/html": [
       "<div>\n",
       "<style scoped>\n",
       "    .dataframe tbody tr th:only-of-type {\n",
       "        vertical-align: middle;\n",
       "    }\n",
       "\n",
       "    .dataframe tbody tr th {\n",
       "        vertical-align: top;\n",
       "    }\n",
       "\n",
       "    .dataframe thead th {\n",
       "        text-align: right;\n",
       "    }\n",
       "</style>\n",
       "<table border=\"1\" class=\"dataframe\">\n",
       "  <thead>\n",
       "    <tr style=\"text-align: right;\">\n",
       "      <th></th>\n",
       "      <th>team_id</th>\n",
       "      <th>Frequency</th>\n",
       "      <th>Recency</th>\n",
       "      <th>R</th>\n",
       "      <th>M</th>\n",
       "      <th>Monetary</th>\n",
       "    </tr>\n",
       "    <tr>\n",
       "      <th>RMScore</th>\n",
       "      <th></th>\n",
       "      <th></th>\n",
       "      <th></th>\n",
       "      <th></th>\n",
       "      <th></th>\n",
       "      <th></th>\n",
       "    </tr>\n",
       "  </thead>\n",
       "  <tbody>\n",
       "    <tr>\n",
       "      <th>22</th>\n",
       "      <td>2514</td>\n",
       "      <td>327</td>\n",
       "      <td>98</td>\n",
       "      <td>2</td>\n",
       "      <td>2</td>\n",
       "      <td>2.928727e+10</td>\n",
       "    </tr>\n",
       "    <tr>\n",
       "      <th>21</th>\n",
       "      <td>120</td>\n",
       "      <td>157</td>\n",
       "      <td>1032</td>\n",
       "      <td>1</td>\n",
       "      <td>2</td>\n",
       "      <td>6.826659e+08</td>\n",
       "    </tr>\n",
       "    <tr>\n",
       "      <th>12</th>\n",
       "      <td>8020</td>\n",
       "      <td>15</td>\n",
       "      <td>195</td>\n",
       "      <td>2</td>\n",
       "      <td>1</td>\n",
       "      <td>2.173752e+09</td>\n",
       "    </tr>\n",
       "    <tr>\n",
       "      <th>11</th>\n",
       "      <td>2513</td>\n",
       "      <td>9</td>\n",
       "      <td>1383</td>\n",
       "      <td>1</td>\n",
       "      <td>1</td>\n",
       "      <td>3.510628e+08</td>\n",
       "    </tr>\n",
       "  </tbody>\n",
       "</table>\n",
       "</div>"
      ],
      "text/plain": [
       "         team_id  Frequency  Recency  R  M      Monetary\n",
       "RMScore                                                 \n",
       "22          2514        327       98  2  2  2.928727e+10\n",
       "21           120        157     1032  1  2  6.826659e+08\n",
       "12          8020         15      195  2  1  2.173752e+09\n",
       "11          2513          9     1383  1  1  3.510628e+08"
      ]
     },
     "execution_count": 6,
     "metadata": {},
     "output_type": "execute_result"
    }
   ],
   "source": [
    "# To do the 2 x 2 matrix we will only use Recency & Monetary\n",
    "df_RFM['RMScore'] = df_RFM.M.map(str)+df_RFM.R.map(str)\n",
    "df_RFM = df_RFM.reset_index()\n",
    "\n",
    "df_RFM_SUM = df_RFM.groupby('RMScore').agg({'team_id': lambda y: len(y.unique()),\n",
    "                                        'Frequency': lambda y: round(y.mean(),0),\n",
    "                                        'Recency': lambda y: round(y.mean(),0),\n",
    "                                        'R': lambda y: round(y.mean(),0),\n",
    "                                        'M': lambda y: round(y.mean(),0),\n",
    "                                        'Monetary': lambda y: round(y.sum(),0)})\n",
    "df_RFM_SUM = df_RFM_SUM.sort_values('RMScore', ascending=False)\n",
    "df_RFM_SUM"
   ]
  },
  {
   "cell_type": "code",
   "execution_count": 8,
   "metadata": {},
   "outputs": [
    {
     "data": {
      "text/html": [
       "<div>\n",
       "<style scoped>\n",
       "    .dataframe tbody tr th:only-of-type {\n",
       "        vertical-align: middle;\n",
       "    }\n",
       "\n",
       "    .dataframe tbody tr th {\n",
       "        vertical-align: top;\n",
       "    }\n",
       "\n",
       "    .dataframe thead th {\n",
       "        text-align: right;\n",
       "    }\n",
       "</style>\n",
       "<table border=\"1\" class=\"dataframe\">\n",
       "  <thead>\n",
       "    <tr style=\"text-align: right;\">\n",
       "      <th></th>\n",
       "      <th>team_id</th>\n",
       "      <th>Frequency</th>\n",
       "      <th>Recency</th>\n",
       "      <th>R</th>\n",
       "      <th>M</th>\n",
       "      <th>Monetary</th>\n",
       "    </tr>\n",
       "    <tr>\n",
       "      <th>RMScore</th>\n",
       "      <th></th>\n",
       "      <th></th>\n",
       "      <th></th>\n",
       "      <th></th>\n",
       "      <th></th>\n",
       "      <th></th>\n",
       "    </tr>\n",
       "  </thead>\n",
       "  <tbody>\n",
       "    <tr>\n",
       "      <th>22</th>\n",
       "      <td>2514</td>\n",
       "      <td>327</td>\n",
       "      <td>98</td>\n",
       "      <td>2</td>\n",
       "      <td>2</td>\n",
       "      <td>29287274416</td>\n",
       "    </tr>\n",
       "    <tr>\n",
       "      <th>21</th>\n",
       "      <td>120</td>\n",
       "      <td>157</td>\n",
       "      <td>1032</td>\n",
       "      <td>1</td>\n",
       "      <td>2</td>\n",
       "      <td>682665852</td>\n",
       "    </tr>\n",
       "    <tr>\n",
       "      <th>12</th>\n",
       "      <td>8020</td>\n",
       "      <td>15</td>\n",
       "      <td>195</td>\n",
       "      <td>2</td>\n",
       "      <td>1</td>\n",
       "      <td>2173752005</td>\n",
       "    </tr>\n",
       "    <tr>\n",
       "      <th>11</th>\n",
       "      <td>2513</td>\n",
       "      <td>9</td>\n",
       "      <td>1383</td>\n",
       "      <td>1</td>\n",
       "      <td>1</td>\n",
       "      <td>351062800</td>\n",
       "    </tr>\n",
       "  </tbody>\n",
       "</table>\n",
       "</div>"
      ],
      "text/plain": [
       "         team_id  Frequency  Recency  R  M    Monetary\n",
       "RMScore                                               \n",
       "22          2514        327       98  2  2 29287274416\n",
       "21           120        157     1032  1  2   682665852\n",
       "12          8020         15      195  2  1  2173752005\n",
       "11          2513          9     1383  1  1   351062800"
      ]
     },
     "execution_count": 8,
     "metadata": {},
     "output_type": "execute_result"
    }
   ],
   "source": [
    "pd.set_option('display.float_format', lambda x: '%.0f' % x)\n",
    "df_RFM_SUM"
   ]
  },
  {
   "cell_type": "code",
   "execution_count": null,
   "metadata": {},
   "outputs": [],
   "source": []
  }
 ],
 "metadata": {
  "kernelspec": {
   "display_name": "Python 3",
   "language": "python",
   "name": "python3"
  },
  "language_info": {
   "codemirror_mode": {
    "name": "ipython",
    "version": 3
   },
   "file_extension": ".py",
   "mimetype": "text/x-python",
   "name": "python",
   "nbconvert_exporter": "python",
   "pygments_lexer": "ipython3",
   "version": "3.7.3"
  }
 },
 "nbformat": 4,
 "nbformat_minor": 2
}
