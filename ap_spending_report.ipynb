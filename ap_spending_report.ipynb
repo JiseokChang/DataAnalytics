{
 "cells": [
  {
   "cell_type": "code",
   "execution_count": null,
   "metadata": {},
   "outputs": [],
   "source": [
    "import pandas as pd\n",
    "  \n",
    "df1 = pd.read_csv(\"C:\\\\Users\\\\samsung\\\\Desktop\\\\account_log2.txt\", sep = \"\\t\")\n",
    "df2 = pd.read_csv(\"C:\\\\Users\\\\samsung\\\\Desktop\\\\account_log3.txt\", sep = \"\\t\")\n",
    "df3 = pd.read_csv(\"C:\\\\Users\\\\samsung\\\\Desktop\\\\account_log4.txt\", sep = \"\\t\")\n",
    "  \n",
    "df = pd.concat([df1, df2, df3])\n",
    "  \n",
    "df_ap_draw = df_ap[df_ap[\"log_type\"] == \"D\"]\n",
    "df_ap_draw[\"crt_date\"] = pd.to_datetime(df_ap_draw[\"crt_date\"])\n",
    "df_ap_draw[\"crt_date\"] = df_ap_draw[\"crt_date\"].apply(lambda x: x.strftime(\"%m%d\"))\n",
    "  \n",
    "ap_draw = df_ap_draw.groupby(\"crt_date\")[\"ap\"].sum()\n",
    "ap_draw = pd.DataFrame(ap_draw)\n",
    "ap_draw.columns = [\"earn\"]\n",
    " \n",
    "import seaborn as sns\n",
    "import matplotlib.pyplot as plt\n",
    "pd.options.display.float_format = '{:.0f}'.format\n",
    "%matplotlib inline\n",
    " \n",
    "g = sns.lineplot(data = ap_draw)\n",
    "for ind, label in enumerate(g.get_xticklabels()):\n",
    "    if ind % 10 == 0:  # every 10th label is kept\n",
    "        label.set_visible(True)\n",
    "    else:\n",
    "        label.set_visible(False)\n",
    "         \n",
    "plt.title(\"AP Earn & Spend\")\n",
    "plt.xlabel(\"date\")\n",
    "plt.ylabel(\"AP\")\n",
    "  \n",
    "df_ap_withdraw = df_ap[df_ap[\"log_type\"] == \"W\"]\n",
    "df_ap_draw = df_ap[df_ap[\"log_type\"] == \"D\"]\n",
    "  \n",
    "pd.options.display.float_format = '{:.3f}'.format\n",
    "df_ap_withdraw.groupby(\"dw_item\").agg({\"ap\" : [\"sum\", lambda x: x.sum()/df_ap_withdraw[\"ap\"].sum()]}).to_csv(\"table.csv\")\n",
    "  \n",
    "bins = [-1000000000, -10000000, -1000000, -500000, 0, 300000, 500000, 1000000, 10000000, 100000000]\n",
    "labels = [\"-1000\", \"-1000~-100\", \"-100~-50\", \"-50~0\", \"0~30\", \"30~50\", \"50~100\", \"100~1000\", \"1000\"]\n",
    "df_daily_sum[\"cut\"] = pd.cut(df_daily_sum[\"AP_earned\"], bins = bins, labels = labels)"
   ]
  }
 ],
 "metadata": {
  "kernelspec": {
   "display_name": "Python 3",
   "language": "python",
   "name": "python3"
  },
  "language_info": {
   "codemirror_mode": {
    "name": "ipython",
    "version": 3
   },
   "file_extension": ".py",
   "mimetype": "text/x-python",
   "name": "python",
   "nbconvert_exporter": "python",
   "pygments_lexer": "ipython3",
   "version": "3.8.3"
  }
 },
 "nbformat": 4,
 "nbformat_minor": 4
}
