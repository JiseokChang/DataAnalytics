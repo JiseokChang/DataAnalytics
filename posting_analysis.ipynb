{
 "cells": [
  {
   "cell_type": "code",
   "execution_count": null,
   "metadata": {},
   "outputs": [],
   "source": [
    "import pandas as pd\n",
    "import matplotlib.pyplot as plt\n",
    "pd.options.display.float_format = '{:.0f}'.format\n",
    "%matplotlib inline\n",
    "df_ps = pd.read_csv(\"C:\\\\Users\\\\samsung\\\\Desktop\\\\ps.txt\", sep = \"\\t\")\n",
    "df_player = pd.read_csv(\"C:\\\\Users\\\\samsung\\\\Desktop\\\\player.txt\", sep = \"\\t\")\n",
    "df_ps[\"ps_id\"] = df_ps[\"ps_id\"].apply(lambda x: str(x))\n",
    "df_ps[\"ps_id\"] = df_ps[\"ps_id\"].apply(lambda x: x[0:4])\n",
    "df = pd.merge(df_ps, df_player, on = \"player_id\", how = \"left\")\n",
    " \n",
    "df_1 = df.drop([\"ps_cat\",\"slot_no\",\"player_id\",\"status\"], axis = 1)\n",
    "df_sum = df_1.groupby([\"ps_id\", \"player_type\"]).agg({\"team_id\" : \"count\", \"ap\":\"mean\"})\n",
    "df_sum = pd.DataFrame(df_sum)\n",
    "df_sum = df_sum.reset_index()\n",
    "df_bid = df_sum.loc[df_sum[\"player_type\"].isin([\"M\",\"S\"])]\n",
    "df_bid.columns = [\"ps_id\",\"type\",\"bid_cnt\",\"avg_ap\"]\n",
    "  \n",
    "df_unique = df.groupby([\"ps_id\",\"player_type\"]).nunique(\"team_id\")\n",
    "df_unique = pd.DataFrame(df_unique)\n",
    "df_unique = df_unique[\"team_id\"]\n",
    "df_unique = df_unique.reset_index()\n",
    "df_unique.columns = [\"ps_id\",\"type\",\"team_cnt\"]\n",
    "df_unique = df_unique.loc[df_sum[\"player_type\"].isin([\"M\",\"S\"])]\n",
    "df_success = df[df[\"status\"] == \"SUCCESS\"]\n",
    "df_success = df_success.reset_index()\n",
    "df_success = df_success[[\"ps_id\",\"ap\",\"player_type\"]]\n",
    "df_success.columns = [\"ps_id\",\"ap\",\"type\"]\n",
    " \n",
    "df_plot = df_success.groupby([\"ps_id\",\"type\"]).mean()\n",
    "df_plot = pd.DataFrame(df_plot)\n",
    "df_plot = df_plot.reset_index()\n",
    "df_plot = df_plot[df_plot[\"type\"].isin([\"M\", \"S\"])]\n",
    "  \n",
    "import seaborn as sns\n",
    "sns.barplot(x=\"ps_id\", y=\"bid_cnt\", hue='type', data=df_bid, palette=[\"C3\", \"C0\"]) # default : dodge=True\n",
    "plt.title('Posting Bid', fontsize=20)\n",
    "plt.legend(fontsize=12)\n",
    "plt.show()\n",
    "  \n",
    "sns.barplot(x=\"ps_id\", y=\"avg_ap\", hue='type', data=df_bid, palette=[\"C3\", \"C0\"]) # default : dodge=True\n",
    "plt.title('Posting AP', fontsize=20)\n",
    "plt.legend(fontsize=12)\n",
    "sns.plt.ticklabel_format(style='plain', axis='y',useOffset=False)\n",
    "plt.show()\n",
    "  \n",
    "sns.barplot(x=\"ps_id\", y=\"team_cnt\", hue='type', data=df_unique, palette=[\"C3\", \"C0\"]) # default : dodge=True\n",
    "plt.title('Posting Bidder', fontsize=20)\n",
    "plt.legend(fontsize=12)\n",
    "sns.plt.ticklabel_format(style='plain', axis='y',useOffset=False)\n",
    "plt.show()\n",
    "  \n",
    "sns.barplot(x=\"ps_id\", y=\"ap\", hue='type', data=df_plot, palette=[\"C3\", \"C0\"]) # default : dodge=True\n",
    "plt.title('Posting Success', fontsize=20)\n",
    "plt.legend(fontsize=12)\n",
    "sns.plt.ticklabel_format(style='plain', axis='y',useOffset=False)\n",
    "plt.show()"
   ]
  }
 ],
 "metadata": {
  "kernelspec": {
   "display_name": "Python 3",
   "language": "python",
   "name": "python3"
  },
  "language_info": {
   "codemirror_mode": {
    "name": "ipython",
    "version": 3
   },
   "file_extension": ".py",
   "mimetype": "text/x-python",
   "name": "python",
   "nbconvert_exporter": "python",
   "pygments_lexer": "ipython3",
   "version": "3.8.3"
  }
 },
 "nbformat": 4,
 "nbformat_minor": 4
}
