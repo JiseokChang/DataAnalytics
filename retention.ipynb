{
 "cells": [
  {
   "cell_type": "code",
   "execution_count": 1,
   "metadata": {},
   "outputs": [
    {
     "name": "stderr",
     "output_type": "stream",
     "text": [
      "<ipython-input-1-9748f118c0d9>:21: SettingWithCopyWarning: \n",
      "A value is trying to be set on a copy of a slice from a DataFrame.\n",
      "Try using .loc[row_indexer,col_indexer] = value instead\n",
      "\n",
      "See the caveats in the documentation: https://pandas.pydata.org/pandas-docs/stable/user_guide/indexing.html#returning-a-view-versus-a-copy\n",
      "  df_unique[\"is_first\"] = df_unique.apply(lambda x: True if x[\"login_date\"] == x[\"crt_date\"] else False, axis = 1)\n"
     ]
    }
   ],
   "source": [
    "import pandas as pd\n",
    "import numpy as np\n",
    "import datetime\n",
    "import matplotlib.pyplot as plt\n",
    "\n",
    "%matplotlib inline\n",
    "\n",
    "#로그인 데이터, 팀 생성 데이터 추가\n",
    "df_login = pd.read_csv(\"/Users/jiseokchang/Desktop/2020_login.txt\", sep = \"\\t\")\n",
    "df_team = pd.read_csv(\"/Users/jiseokchang/Desktop/team.txt\", sep = \"\\t\")\n",
    "\n",
    "df = pd.merge(df_team, df_login, on = \"team_id\", how = \"left\")\n",
    "\n",
    "#datetime 타입 변환\n",
    "df[\"crt_date\"] = pd.to_datetime(df[\"crt_date\"])\n",
    "df[\"login_date\"] = pd.to_datetime(df[\"login_date\"])\n",
    "df[\"crt_date\"] = df[\"crt_date\"].apply(lambda x: x.strftime(\"%Y-%m-%d\"))\n",
    "df[\"login_date\"] = df[\"login_date\"].apply(lambda x: x.strftime(\"%Y-%m-%d\"))\n",
    "\n",
    "#접속 여부 유니크 정리(1일 1회 최대)\n",
    "df_unique = df.drop_duplicates(['team_id', 'login_date'], keep = \"first\")\n",
    "daily_new_user = df_unique.groupby(\"crt_date\").agg({\"team_id\":\"nunique\"})\n",
    "\n",
    "#계정 생성일 확인 칼럼 생성\n",
    "df_unique[\"is_first\"] = df_unique.apply(lambda x: True if x[\"login_date\"] == x[\"crt_date\"] else False, axis = 1)\n",
    "date_list = pd.date_range(start='2020-05-05', end='2020-06-11')\n",
    "date_list = date_list.strftime(\"%Y-%m-%d\")\n",
    "\n",
    "#리텐션 계산 함수 정의\n",
    "def daily_retention(df, date):\n",
    "    cohort = df_unique[(df_unique[\"is_first\"] == True) & (df[\"crt_date\"] == date)]\n",
    "    num_of_users = cohort[\"team_id\"].nunique()\n",
    "    print(\"Number of unique users on %s:\" %date, num_of_users)\n",
    "    \n",
    "    list_cohort= cohort['team_id'].unique()\n",
    "    df_cohort= df[df['team_id'].isin(list_cohort)]\n",
    "    cohort_data=pd.DataFrame((df_cohort.groupby(['login_date']).nunique()['team_id']/num_of_users*100).round(2))\n",
    "    return cohort_data"
   ]
  },
  {
   "cell_type": "code",
   "execution_count": 2,
   "metadata": {},
   "outputs": [
    {
     "name": "stdout",
     "output_type": "stream",
     "text": [
      "Number of unique users on 2020-05-05: 526\n",
      "Number of unique users on 2020-05-06: 493\n",
      "Number of unique users on 2020-05-07: 556\n",
      "Number of unique users on 2020-05-08: 532\n",
      "Number of unique users on 2020-05-09: 719\n",
      "Number of unique users on 2020-05-10: 787\n",
      "Number of unique users on 2020-05-11: 611\n",
      "Number of unique users on 2020-05-12: 717\n",
      "Number of unique users on 2020-05-13: 738\n",
      "Number of unique users on 2020-05-14: 763\n",
      "Number of unique users on 2020-05-15: 811\n",
      "Number of unique users on 2020-05-16: 965\n",
      "Number of unique users on 2020-05-17: 911\n",
      "Number of unique users on 2020-05-18: 839\n",
      "Number of unique users on 2020-05-19: 745\n",
      "Number of unique users on 2020-05-20: 685\n",
      "Number of unique users on 2020-05-21: 717\n",
      "Number of unique users on 2020-05-22: 583\n",
      "Number of unique users on 2020-05-23: 687\n",
      "Number of unique users on 2020-05-24: 827\n",
      "Number of unique users on 2020-05-25: 627\n",
      "Number of unique users on 2020-05-26: 655\n",
      "Number of unique users on 2020-05-27: 627\n",
      "Number of unique users on 2020-05-28: 628\n",
      "Number of unique users on 2020-05-29: 710\n",
      "Number of unique users on 2020-05-30: 1197\n",
      "Number of unique users on 2020-05-31: 1371\n",
      "Number of unique users on 2020-06-01: 891\n",
      "Number of unique users on 2020-06-02: 893\n",
      "Number of unique users on 2020-06-03: 928\n",
      "Number of unique users on 2020-06-04: 937\n",
      "Number of unique users on 2020-06-05: 619\n",
      "Number of unique users on 2020-06-06: 452\n",
      "Number of unique users on 2020-06-07: 472\n",
      "Number of unique users on 2020-06-08: 332\n",
      "Number of unique users on 2020-06-09: 317\n",
      "Number of unique users on 2020-06-10: 306\n",
      "Number of unique users on 2020-06-11: 275\n"
     ]
    }
   ],
   "source": [
    "final_df = pd.DataFrame(index = date_list)\n",
    "\n",
    "#for문으로 일자를 돌며 기준 일자별 리텐션 계산\n",
    "for index in final_df.index:\n",
    "    temp = daily_retention(df_unique, index)\n",
    "    final_df[index] = temp"
   ]
  },
  {
   "cell_type": "code",
   "execution_count": 3,
   "metadata": {},
   "outputs": [],
   "source": [
    "final_df.to_csv(\"/Users/jiseokchang/Desktop/2020_retention.csv\", sep = \",\")"
   ]
  },
  {
   "cell_type": "code",
   "execution_count": null,
   "metadata": {},
   "outputs": [],
   "source": []
  }
 ],
 "metadata": {
  "kernelspec": {
   "display_name": "Python 3",
   "language": "python",
   "name": "python3"
  },
  "language_info": {
   "codemirror_mode": {
    "name": "ipython",
    "version": 3
   },
   "file_extension": ".py",
   "mimetype": "text/x-python",
   "name": "python",
   "nbconvert_exporter": "python",
   "pygments_lexer": "ipython3",
   "version": "3.8.3"
  }
 },
 "nbformat": 4,
 "nbformat_minor": 4
}
